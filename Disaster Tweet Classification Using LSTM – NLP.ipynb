{
 "cells": [
  {
   "cell_type": "markdown",
   "id": "7339801a",
   "metadata": {},
   "source": [
    "# Disaster Tweet Classification Using LSTM – NLP"
   ]
  },
  {
   "cell_type": "code",
   "execution_count": 1,
   "id": "bc77e266",
   "metadata": {},
   "outputs": [],
   "source": [
    "import warnings\n",
    "warnings.simplefilter(action=\"ignore\", category = Warning)"
   ]
  },
  {
   "cell_type": "code",
   "execution_count": 2,
   "id": "07bab064",
   "metadata": {},
   "outputs": [],
   "source": [
    "import numpy as np\n",
    "import pandas as pd\n",
    "import matplotlib.pyplot as plt\n",
    "%matplotlib inline\n",
    "import seaborn as sns\n",
    "sns.set_style(\"darkgrid\")"
   ]
  },
  {
   "cell_type": "code",
   "execution_count": 3,
   "id": "acd83d3e",
   "metadata": {},
   "outputs": [],
   "source": [
    "import re\n",
    "import nltk\n",
    "from nltk.corpus import stopwords\n",
    "from tqdm import tqdm"
   ]
  },
  {
   "cell_type": "code",
   "execution_count": 4,
   "id": "374fa635",
   "metadata": {},
   "outputs": [
    {
     "data": {
      "text/html": [
       "<div>\n",
       "<style scoped>\n",
       "    .dataframe tbody tr th:only-of-type {\n",
       "        vertical-align: middle;\n",
       "    }\n",
       "\n",
       "    .dataframe tbody tr th {\n",
       "        vertical-align: top;\n",
       "    }\n",
       "\n",
       "    .dataframe thead th {\n",
       "        text-align: right;\n",
       "    }\n",
       "</style>\n",
       "<table border=\"1\" class=\"dataframe\">\n",
       "  <thead>\n",
       "    <tr style=\"text-align: right;\">\n",
       "      <th></th>\n",
       "      <th>id</th>\n",
       "      <th>keyword</th>\n",
       "      <th>location</th>\n",
       "      <th>text</th>\n",
       "      <th>target</th>\n",
       "    </tr>\n",
       "  </thead>\n",
       "  <tbody>\n",
       "    <tr>\n",
       "      <th>0</th>\n",
       "      <td>1</td>\n",
       "      <td>NaN</td>\n",
       "      <td>NaN</td>\n",
       "      <td>Our Deeds are the Reason of this #earthquake M...</td>\n",
       "      <td>1</td>\n",
       "    </tr>\n",
       "    <tr>\n",
       "      <th>1</th>\n",
       "      <td>4</td>\n",
       "      <td>NaN</td>\n",
       "      <td>NaN</td>\n",
       "      <td>Forest fire near La Ronge Sask. Canada</td>\n",
       "      <td>1</td>\n",
       "    </tr>\n",
       "    <tr>\n",
       "      <th>2</th>\n",
       "      <td>5</td>\n",
       "      <td>NaN</td>\n",
       "      <td>NaN</td>\n",
       "      <td>All residents asked to 'shelter in place' are ...</td>\n",
       "      <td>1</td>\n",
       "    </tr>\n",
       "    <tr>\n",
       "      <th>3</th>\n",
       "      <td>6</td>\n",
       "      <td>NaN</td>\n",
       "      <td>NaN</td>\n",
       "      <td>13,000 people receive #wildfires evacuation or...</td>\n",
       "      <td>1</td>\n",
       "    </tr>\n",
       "    <tr>\n",
       "      <th>4</th>\n",
       "      <td>7</td>\n",
       "      <td>NaN</td>\n",
       "      <td>NaN</td>\n",
       "      <td>Just got sent this photo from Ruby #Alaska as ...</td>\n",
       "      <td>1</td>\n",
       "    </tr>\n",
       "  </tbody>\n",
       "</table>\n",
       "</div>"
      ],
      "text/plain": [
       "   id keyword location                                               text  \\\n",
       "0   1     NaN      NaN  Our Deeds are the Reason of this #earthquake M...   \n",
       "1   4     NaN      NaN             Forest fire near La Ronge Sask. Canada   \n",
       "2   5     NaN      NaN  All residents asked to 'shelter in place' are ...   \n",
       "3   6     NaN      NaN  13,000 people receive #wildfires evacuation or...   \n",
       "4   7     NaN      NaN  Just got sent this photo from Ruby #Alaska as ...   \n",
       "\n",
       "   target  \n",
       "0       1  \n",
       "1       1  \n",
       "2       1  \n",
       "3       1  \n",
       "4       1  "
      ]
     },
     "execution_count": 4,
     "metadata": {},
     "output_type": "execute_result"
    }
   ],
   "source": [
    "df = pd.read_csv(\"train.csv\")\n",
    "df.head()"
   ]
  },
  {
   "cell_type": "markdown",
   "id": "2f47c1f0",
   "metadata": {},
   "source": [
    "# Exploratory Data Analysis"
   ]
  },
  {
   "cell_type": "code",
   "execution_count": 5,
   "id": "172ab39e",
   "metadata": {},
   "outputs": [
    {
     "data": {
      "text/plain": [
       "<AxesSubplot:xlabel='target', ylabel='count'>"
      ]
     },
     "execution_count": 5,
     "metadata": {},
     "output_type": "execute_result"
    },
    {
     "data": {
      "image/png": "[encoded data removed]",
      "text/plain": [
       "<Figure size 432x288 with 1 Axes>"
      ]
     },
     "metadata": {},
     "output_type": "display_data"
    }
   ],
   "source": [
    "sns.countplot(df[\"target\"])"
   ]
  },
  {
   "cell_type": "code",
   "execution_count": 6,
   "id": "a3ba32fc",
   "metadata": {},
   "outputs": [
    {
     "data": {
      "text/plain": [
       "0    0.57034\n",
       "1    0.42966\n",
       "Name: target, dtype: float64"
      ]
     },
     "execution_count": 6,
     "metadata": {},
     "output_type": "execute_result"
    }
   ],
   "source": [
    "df[\"target\"].value_counts(normalize=True)"
   ]
  },
  {
   "cell_type": "markdown",
   "id": "efa017e7",
   "metadata": {},
   "source": [
    "As an important step of data analysis we’re going to calculate the length of each tweets and creating a function for plotting an histogram based on the length data."
   ]
  },
  {
   "cell_type": "code",
   "execution_count": 7,
   "id": "c045157a",
   "metadata": {},
   "outputs": [
    {
     "data": {
      "image/png": "[encoded data removed]",
      "text/plain": [
       "<Figure size 432x288 with 1 Axes>"
      ]
     },
     "metadata": {},
     "output_type": "display_data"
    }
   ],
   "source": [
    "def length_plot(df, name):\n",
    "    length = [len(sentence.split()) for sentence in df]\n",
    "    plt.hist(length)\n",
    "    plt.title(name)\n",
    "    \n",
    "length_plot(df[df[\"target\"]==0][\"text\"], \"Not Disaster\")\n",
    "length_plot(df[df[\"target\"]==1][\"text\"], \"Disaster\")\n",
    "plt.tight_layout()"
   ]
  },
  {
   "cell_type": "code",
   "execution_count": 8,
   "id": "b4c1eaf7",
   "metadata": {},
   "outputs": [
    {
     "data": {
      "image/png": "[encoded data removed]",
      "text/plain": [
       "<Figure size 432x288 with 1 Axes>"
      ]
     },
     "metadata": {},
     "output_type": "display_data"
    }
   ],
   "source": [
    "length_plot(df[df[\"target\"]==1][\"text\"], \"Disaster\")"
   ]
  },
  {
   "cell_type": "markdown",
   "id": "6587df3d",
   "metadata": {},
   "source": [
    "Now let’s separate the dependent and independent features"
   ]
  },
  {
   "cell_type": "code",
   "execution_count": 9,
   "id": "a0e54333",
   "metadata": {},
   "outputs": [],
   "source": [
    "X = df[\"text\"]\n",
    "y = df[\"target\"]"
   ]
  },
  {
   "cell_type": "markdown",
   "id": "843733a0",
   "metadata": {},
   "source": [
    "Calculating the number of unique words present in the disaster tweets."
   ]
  },
  {
   "cell_type": "code",
   "execution_count": 15,
   "id": "ac6f5998",
   "metadata": {},
   "outputs": [
    {
     "name": "stderr",
     "output_type": "stream",
     "text": [
      "100%|██████████████████████████████████████████████████████████████████████████████| 7613/7613 [03:53<00:00, 32.59it/s]"
     ]
    },
    {
     "name": "stdout",
     "output_type": "stream",
     "text": [
      "Total unique words present:  113461\n"
     ]
    },
    {
     "name": "stderr",
     "output_type": "stream",
     "text": [
      "\n"
     ]
    }
   ],
   "source": [
    "def unique_words(sentence):\n",
    "    unique_words_list = []\n",
    "    for sent in tqdm(sentence):\n",
    "        for word in sent.split():\n",
    "            if word.lower not in unique_words_list:\n",
    "                unique_words_list.append(word.lower())\n",
    "            else:\n",
    "                pass\n",
    "    return unique_words_list\n",
    "\n",
    "unique_words = unique_words(X)\n",
    "print(\"Total unique words present: \", len(unique_words))"
   ]
  },
  {
   "cell_type": "code",
   "execution_count": 11,
   "id": "ca303e04",
   "metadata": {},
   "outputs": [
    {
     "data": {
      "text/plain": [
       "(7613, 5)"
      ]
     },
     "execution_count": 11,
     "metadata": {},
     "output_type": "execute_result"
    }
   ],
   "source": [
    "df.shape"
   ]
  },
  {
   "cell_type": "code",
   "execution_count": 21,
   "id": "d4d44e1f",
   "metadata": {},
   "outputs": [
    {
     "data": {
      "text/plain": [
       "['am',\n",
       " 'i',\n",
       " 'gonna',\n",
       " 'do',\n",
       " 'what',\n",
       " 'am',\n",
       " 'i',\n",
       " 'gonna',\n",
       " 'do',\n",
       " 'fvck',\n",
       " '#flooding',\n",
       " '#raining',\n",
       " '#flooding',\n",
       " '#florida',\n",
       " '#tampabay',\n",
       " '#tampa',\n",
       " '18',\n",
       " 'or',\n",
       " '19',\n",
       " 'days.']"
      ]
     },
     "execution_count": 21,
     "metadata": {},
     "output_type": "execute_result"
    }
   ],
   "source": [
    "unique_words[160:180]"
   ]
  },
  {
   "cell_type": "markdown",
   "id": "8b550a1a",
   "metadata": {},
   "source": [
    "As you know that this is a twitter dataset, so it  might contains several words starting with ‘#’ and ‘@’. So let’s find these words words starting with “#”"
   ]
  },
  {
   "cell_type": "code",
   "execution_count": 23,
   "id": "3a96ddea",
   "metadata": {},
   "outputs": [
    {
     "data": {
      "text/plain": [
       "3340"
      ]
     },
     "execution_count": 23,
     "metadata": {},
     "output_type": "execute_result"
    }
   ],
   "source": [
    "symbol_1 = [word for word in unique_words if word.startswith(\"#\")]\n",
    "len(symbol_1)"
   ]
  },
  {
   "cell_type": "code",
   "execution_count": 24,
   "id": "851a07c3",
   "metadata": {},
   "outputs": [
    {
     "data": {
      "text/plain": [
       "2664"
      ]
     },
     "execution_count": 24,
     "metadata": {},
     "output_type": "execute_result"
    }
   ],
   "source": [
    "symbol_2 = [word for word in unique_words if word.startswith(\"@\")]\n",
    "len(symbol_2)"
   ]
  },
  {
   "cell_type": "markdown",
   "id": "77612785",
   "metadata": {},
   "source": [
    "In the dataset there are several urls are present ,so let’s write a function to remove the  urls present in it."
   ]
  },
  {
   "cell_type": "code",
   "execution_count": 25,
   "id": "62edd931",
   "metadata": {},
   "outputs": [],
   "source": [
    "def url_remover(text):\n",
    "    url_patterns = re.compile(r'https?://S+|www.S+')\n",
    "    return url_patterns.sub(r'',text)"
   ]
  },
  {
   "cell_type": "markdown",
   "id": "0779a58d",
   "metadata": {},
   "source": [
    "Now let’s start the actual preprocessing so we are writing a function for it."
   ]
  },
  {
   "cell_type": "code",
   "execution_count": 26,
   "id": "31b00ac4",
   "metadata": {},
   "outputs": [],
   "source": [
    "from nltk.stem import WordNetLemmatizer"
   ]
  },
  {
   "cell_type": "code",
   "execution_count": 27,
   "id": "4aceaa7a",
   "metadata": {},
   "outputs": [],
   "source": [
    "wl = WordNetLemmatizer()"
   ]
  },
  {
   "cell_type": "code",
   "execution_count": 28,
   "id": "4c462818",
   "metadata": {},
   "outputs": [
    {
     "name": "stderr",
     "output_type": "stream",
     "text": [
      "100%|█████████████████████████████████████████████████████████████████████████████| 7613/7613 [00:08<00:00, 930.67it/s]\n"
     ]
    }
   ],
   "source": [
    "def preprocessing(text):\n",
    "    tweets = []\n",
    "    for sentence in tqdm(text):\n",
    "        sentence = sentence.lower()\n",
    "        sentence = url_remover(sentence)\n",
    "        sentence = re.sub(r'@w+','',sentence).strip()\n",
    "        sentence = re.sub(\"[^a-zA-Z0-9']\", '' ,sentence)\n",
    "        sentence = sentence.split()\n",
    "        sentence1 = [wl.lemmatize(word) for word in sentence if word not in set(stopwords.words(\"english\"))]\n",
    "        sentence1 = \" \".join(sentence1)\n",
    "        tweets.append(sentence1)\n",
    "    return tweets\n",
    "tweets = preprocessing(X)\n",
    "        "
   ]
  },
  {
   "cell_type": "markdown",
   "id": "d20e3cc9",
   "metadata": {},
   "source": [
    "Before feeding into the model all these tweets needs to be converted into numerical features. So we need to perform onehot encoding. So before that we are importing tensorflow library and its parts"
   ]
  },
  {
   "cell_type": "code",
   "execution_count": 29,
   "id": "7cb54348",
   "metadata": {},
   "outputs": [],
   "source": [
    "from tensorflow.keras.layers import (Embedding, LSTM, Dense, Dropout, GlobalMaxPool1D, BatchNormalization)"
   ]
  },
  {
   "cell_type": "code",
   "execution_count": 32,
   "id": "8231077b",
   "metadata": {},
   "outputs": [],
   "source": [
    "from tensorflow.keras.models import Sequential\n",
    "from tensorflow.keras.preprocessing.sequence import pad_sequences\n",
    "from tensorflow.keras.preprocessing.text import one_hot"
   ]
  },
  {
   "cell_type": "markdown",
   "id": "325b7ea8",
   "metadata": {},
   "source": [
    "Now performing onehot encoding"
   ]
  },
  {
   "cell_type": "code",
   "execution_count": 33,
   "id": "55d7b523",
   "metadata": {},
   "outputs": [],
   "source": [
    "voc_size = 30000\n",
    "onehot_vector = [one_hot(words, voc_size) for words in tweets]"
   ]
  },
  {
   "cell_type": "code",
   "execution_count": 34,
   "id": "f418d6bb",
   "metadata": {},
   "outputs": [
    {
     "data": {
      "text/plain": [
       "[[7414],\n",
       " [26493],\n",
       " [13052],\n",
       " [9124],\n",
       " [19528],\n",
       " [17476],\n",
       " [4588],\n",
       " [8322],\n",
       " [18936],\n",
       " [18936],\n",
       " [19037],\n",
       " [11163],\n",
       " [22401],\n",
       " [21742],\n",
       " [29774],\n",
       " [22009],\n",
       " [7899],\n",
       " [842],\n",
       " [10800],\n",
       " [11962]]"
      ]
     },
     "execution_count": 34,
     "metadata": {},
     "output_type": "execute_result"
    }
   ],
   "source": [
    "onehot_vector[110:130]"
   ]
  },
  {
   "cell_type": "markdown",
   "id": "e8582599",
   "metadata": {},
   "source": [
    "Let’s find the word length each for each tweets."
   ]
  },
  {
   "cell_type": "code",
   "execution_count": 47,
   "id": "c3e9b687",
   "metadata": {},
   "outputs": [],
   "source": [
    "word_length = []\n",
    "for i in onehot_vector:\n",
    "    word_length.append(len(i))"
   ]
  },
  {
   "cell_type": "code",
   "execution_count": 40,
   "id": "a0250860",
   "metadata": {},
   "outputs": [
    {
     "data": {
      "text/plain": [
       "7613"
      ]
     },
     "execution_count": 40,
     "metadata": {},
     "output_type": "execute_result"
    }
   ],
   "source": [
    "len(word_length)"
   ]
  },
  {
   "cell_type": "code",
   "execution_count": 43,
   "id": "e1d9cdd5",
   "metadata": {},
   "outputs": [
    {
     "data": {
      "text/plain": [
       "1"
      ]
     },
     "execution_count": 43,
     "metadata": {},
     "output_type": "execute_result"
    }
   ],
   "source": [
    "max(word_length) "
   ]
  },
  {
   "cell_type": "code",
   "execution_count": 48,
   "id": "87303b80",
   "metadata": {},
   "outputs": [
    {
     "data": {
      "text/plain": [
       "array([[ 8048,     0,     0, ...,     0,     0,     0],\n",
       "       [11533,     0,     0, ...,     0,     0,     0],\n",
       "       [27667,     0,     0, ...,     0,     0,     0],\n",
       "       ...,\n",
       "       [12530,     0,     0, ...,     0,     0,     0],\n",
       "       [ 1357,     0,     0, ...,     0,     0,     0],\n",
       "       [14527,     0,     0, ...,     0,     0,     0]])"
      ]
     },
     "execution_count": 48,
     "metadata": {},
     "output_type": "execute_result"
    }
   ],
   "source": [
    "SENTENCE_LENGTH = 15\n",
    "embedded_docs = pad_sequences(onehot_vector, padding=\"post\", maxlen=SENTENCE_LENGTH)\n",
    "embedded_docs"
   ]
  },
  {
   "cell_type": "code",
   "execution_count": 51,
   "id": "f9d91722",
   "metadata": {},
   "outputs": [],
   "source": [
    "def model():\n",
    "    VECTOR_FEATURES = 32\n",
    "    lstm_model = Sequential()\n",
    "    lstm_model.add(Embedding(voc_size,\n",
    "                      VECTOR_FEATURES,\n",
    "                      input_length=SENTENCE_LENGTH))\n",
    "    lstm_model.add(LSTM(100, return_sequences = True))\n",
    "    lstm_model.add(GlobalMaxPool1D())\n",
    "    lstm_model.add(BatchNormalization())\n",
    "    lstm_model.add(Dropout(0.5))\n",
    "    lstm_model.add(Dense(10, activation=\"relu\"))\n",
    "    lstm_model.add(Dropout(0.25))\n",
    "    lstm_model.add(Dense(1, activation = \"sigmoid\"))\n",
    "    return lstm_model"
   ]
  },
  {
   "cell_type": "code",
   "execution_count": 52,
   "id": "b7ff887e",
   "metadata": {},
   "outputs": [
    {
     "name": "stdout",
     "output_type": "stream",
     "text": [
      "Model: \"sequential_1\"\n",
      "_________________________________________________________________\n",
      " Layer (type)                Output Shape              Param #   \n",
      "=================================================================\n",
      " embedding (Embedding)       (None, 15, 32)            960000    \n",
      "                                                                 \n",
      " lstm (LSTM)                 (None, 15, 100)           53200     \n",
      "                                                                 \n",
      " global_max_pooling1d (Globa  (None, 100)              0         \n",
      " lMaxPooling1D)                                                  \n",
      "                                                                 \n",
      " batch_normalization (BatchN  (None, 100)              400       \n",
      " ormalization)                                                   \n",
      "                                                                 \n",
      " dropout (Dropout)           (None, 100)               0         \n",
      "                                                                 \n",
      " dense (Dense)               (None, 10)                1010      \n",
      "                                                                 \n",
      " dropout_1 (Dropout)         (None, 10)                0         \n",
      "                                                                 \n",
      " dense_1 (Dense)             (None, 1)                 11        \n",
      "                                                                 \n",
      "=================================================================\n",
      "Total params: 1,014,621\n",
      "Trainable params: 1,014,421\n",
      "Non-trainable params: 200\n",
      "_________________________________________________________________\n"
     ]
    }
   ],
   "source": [
    "lstm_model = model()\n",
    "lstm_model.compile(optimizer = \"adam\", loss = \"binary_crossentropy\", metrics = [\"accuracy\"])\n",
    "lstm_model.summary() #summary"
   ]
  },
  {
   "cell_type": "code",
   "execution_count": 53,
   "id": "b4d30c36",
   "metadata": {},
   "outputs": [
    {
     "name": "stdout",
     "output_type": "stream",
     "text": [
      "Epoch 1/8\n",
      "238/238 [==============================] - 14s 38ms/step - loss: 0.6866 - accuracy: 0.5556\n",
      "Epoch 2/8\n",
      "238/238 [==============================] - 9s 39ms/step - loss: 0.6295 - accuracy: 0.6595\n",
      "Epoch 3/8\n",
      "238/238 [==============================] - 9s 40ms/step - loss: 0.3162 - accuracy: 0.8911\n",
      "Epoch 4/8\n",
      "238/238 [==============================] - 9s 39ms/step - loss: 0.2144 - accuracy: 0.9150\n",
      "Epoch 5/8\n",
      "238/238 [==============================] - 9s 39ms/step - loss: 0.1518 - accuracy: 0.9274\n",
      "Epoch 6/8\n",
      "238/238 [==============================] - 9s 38ms/step - loss: 0.1197 - accuracy: 0.9347\n",
      "Epoch 7/8\n",
      "238/238 [==============================] - 9s 37ms/step - loss: 0.1161 - accuracy: 0.9354\n",
      "Epoch 8/8\n",
      "238/238 [==============================] - 9s 39ms/step - loss: 0.1103 - accuracy: 0.9352\n"
     ]
    }
   ],
   "source": [
    "history = lstm_model.fit(embedded_docs, y, epochs=8, batch_size=32)"
   ]
  },
  {
   "cell_type": "code",
   "execution_count": 54,
   "id": "b11291d6",
   "metadata": {},
   "outputs": [
    {
     "data": {
      "text/plain": [
       "Text(0.5, 1.0, 'Accuracy')"
      ]
     },
     "execution_count": 54,
     "metadata": {},
     "output_type": "execute_result"
    },
    {
     "data": {
      "image/png": "[encoded data removed]",
      "text/plain": [
       "<Figure size 432x288 with 1 Axes>"
      ]
     },
     "metadata": {},
     "output_type": "display_data"
    }
   ],
   "source": [
    "plt.plot(history.history[\"accuracy\"])\n",
    "plt.xlabel(\"Epochs\")\n",
    "plt.ylabel(\"Accuracy\")\n",
    "plt.title(\"Accuracy\")"
   ]
  },
  {
   "cell_type": "code",
   "execution_count": 55,
   "id": "66c0986e",
   "metadata": {},
   "outputs": [
    {
     "data": {
      "text/plain": [
       "Text(0.5, 1.0, 'Loss')"
      ]
     },
     "execution_count": 55,
     "metadata": {},
     "output_type": "execute_result"
    },
    {
     "data": {
      "image/png": "[encoded data removed]",
      "text/plain": [
       "<Figure size 432x288 with 1 Axes>"
      ]
     },
     "metadata": {},
     "output_type": "display_data"
    }
   ],
   "source": [
    "plt.plot(history.history[\"loss\"])\n",
    "plt.xlabel(\"Epochs\")\n",
    "plt.ylabel(\"Loss\")\n",
    "plt.title(\"Loss\")"
   ]
  },
  {
   "cell_type": "code",
   "execution_count": 57,
   "id": "3c6f81ec",
   "metadata": {},
   "outputs": [],
   "source": [
    "#pickle.dump(lstm_model, open(\"model.pkl\", \"wb\"))"
   ]
  },
  {
   "cell_type": "code",
   "execution_count": null,
   "id": "37987513",
   "metadata": {},
   "outputs": [],
   "source": []
  }
 ],
 "metadata": {
  "kernelspec": {
   "display_name": "Python 3",
   "language": "python",
   "name": "python3"
  },
  "language_info": {
   "codemirror_mode": {
    "name": "ipython",
    "version": 3
   },
   "file_extension": ".py",
   "mimetype": "text/x-python",
   "name": "python",
   "nbconvert_exporter": "python",
   "pygments_lexer": "ipython3",
   "version": "3.8.8"
  }
 },
 "nbformat": 4,
 "nbformat_minor": 5
}
